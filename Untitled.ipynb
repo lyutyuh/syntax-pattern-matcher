{
 "cells": [
  {
   "cell_type": "code",
   "execution_count": 1,
   "metadata": {},
   "outputs": [],
   "source": [
    "%load_ext autoreload\n",
    "%autoreload 2"
   ]
  },
  {
   "cell_type": "code",
   "execution_count": 2,
   "metadata": {},
   "outputs": [],
   "source": [
    "from util import SyntaxTree\n",
    "import time"
   ]
  },
  {
   "cell_type": "code",
   "execution_count": 12,
   "metadata": {},
   "outputs": [
    {
     "name": "stdout",
     "output_type": "stream",
     "text": [
      "[(1, 'NP', ['Some', 'cats']), (3, 'TO', ['to']), (4, 'VP', ['deal', 'with'])]\n",
      "0.04655766487121582\n"
     ]
    }
   ],
   "source": [
    "st = time.time()\n",
    "example_sentence = 'Some cats are certainly difficult to deal with.'\n",
    "example_syntax_pattern = ['[np,1]', 'are', 'certainly', 'difficult','[to,3]', '[vp,4]']\n",
    "print(SyntaxTree.matchPattern(example_sentence, example_syntax_pattern))\n",
    "ed = time.time()\n",
    "print(ed-st)"
   ]
  },
  {
   "cell_type": "code",
   "execution_count": null,
   "metadata": {},
   "outputs": [],
   "source": []
  }
 ],
 "metadata": {
  "kernelspec": {
   "display_name": "workvenv",
   "language": "python",
   "name": "workvenv"
  },
  "language_info": {
   "codemirror_mode": {
    "name": "ipython",
    "version": 3
   },
   "file_extension": ".py",
   "mimetype": "text/x-python",
   "name": "python",
   "nbconvert_exporter": "python",
   "pygments_lexer": "ipython3",
   "version": "3.6.4"
  }
 },
 "nbformat": 4,
 "nbformat_minor": 2
}
