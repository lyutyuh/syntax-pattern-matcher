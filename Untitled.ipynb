{
 "cells": [
  {
   "cell_type": "code",
   "execution_count": 5,
   "metadata": {},
   "outputs": [
    {
     "name": "stdout",
     "output_type": "stream",
     "text": [
      "The autoreload extension is already loaded. To reload it, use:\n",
      "  %reload_ext autoreload\n"
     ]
    }
   ],
   "source": [
    "%load_ext autoreload\n",
    "%autoreload 2"
   ]
  },
  {
   "cell_type": "code",
   "execution_count": 1,
   "metadata": {},
   "outputs": [],
   "source": [
    "from util import SyntaxTree\n",
    "import time"
   ]
  },
  {
   "cell_type": "code",
   "execution_count": 4,
   "metadata": {},
   "outputs": [
    {
     "name": "stdout",
     "output_type": "stream",
     "text": [
      "(ROOT\n",
      "  (S\n",
      "    (NP (DT Some) (NNS cats))\n",
      "    (VP (VBP are)\n",
      "      (ADVP (RB certainly))\n",
      "      (ADJP (JJ difficult)\n",
      "        (S\n",
      "          (VP (TO to)\n",
      "            (VP (VB deal)\n",
      "              (PP (IN with)))))))\n",
      "    (. .)))\n",
      "[((-1, 2), ['[NP,1]']), ((5, None), ['[TO,3]', '[VP,4]'])]\n",
      "(0, 2) NP\n",
      "(5, 6) TO\n",
      "(6, 8) VP\n",
      "[[[('NP', (0, 2))], [('TO', (5, 6)), ('VP', (6, 8))]]]\n",
      "0.050005197525024414\n"
     ]
    }
   ],
   "source": [
    "st = time.time()\n",
    "example_sentence = 'Some cats are certainly difficult to deal with.'\n",
    "example_syntax_pattern = ['[np,1]', 'are', 'certainly', 'difficult','[to,3]', '[vp,4]']\n",
    "print(SyntaxTree.matchPattern(example_sentence, example_syntax_pattern))\n",
    "ed = time.time()\n",
    "print(ed-st)"
   ]
  },
  {
   "cell_type": "code",
   "execution_count": null,
   "metadata": {},
   "outputs": [],
   "source": []
  }
 ],
 "metadata": {
  "kernelspec": {
   "display_name": "workvenv",
   "language": "python",
   "name": "workvenv"
  },
  "language_info": {
   "codemirror_mode": {
    "name": "ipython",
    "version": 3
   },
   "file_extension": ".py",
   "mimetype": "text/x-python",
   "name": "python",
   "nbconvert_exporter": "python",
   "pygments_lexer": "ipython3",
   "version": "3.6.4"
  }
 },
 "nbformat": 4,
 "nbformat_minor": 2
}
