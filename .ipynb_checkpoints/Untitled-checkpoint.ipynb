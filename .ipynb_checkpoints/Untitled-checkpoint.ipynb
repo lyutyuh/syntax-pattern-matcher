{
 "cells": [
  {
   "cell_type": "code",
   "execution_count": 5,
   "metadata": {},
   "outputs": [
    {
     "name": "stdout",
     "output_type": "stream",
     "text": [
      "The autoreload extension is already loaded. To reload it, use:\n",
      "  %reload_ext autoreload\n"
     ]
    }
   ],
   "source": [
    "%load_ext autoreload\n",
    "%autoreload 2"
   ]
  },
  {
   "cell_type": "code",
   "execution_count": 72,
   "metadata": {},
   "outputs": [],
   "source": [
    "from util import SyntaxTree\n",
    "import time"
   ]
  },
  {
   "cell_type": "code",
   "execution_count": 113,
   "metadata": {},
   "outputs": [
    {
     "name": "stdout",
     "output_type": "stream",
     "text": [
      "(ROOT\n",
      "  (S\n",
      "    (NP (DT Some) (NN cat))\n",
      "    (VP (VBZ is)\n",
      "      (ADVP (RB certainly))\n",
      "      (ADJP (JJ difficult)\n",
      "        (S\n",
      "          (VP (TO to)\n",
      "            (VP (VB deal)\n",
      "              (PP (IN with)))))))\n",
      "    (. .)))\n",
      "[((-1, 2), ['[NP,1]']), ((5, None), ['[TO,3]', '[VB,4]'])]\n",
      "(0, 2) NP\n",
      "(5, 6) TO\n",
      "(6, 8) VP\n",
      "(6, 7) VB\n",
      "[[[('NP', (0, 2))], [('TO', (5, 6)), ('VB', (6, 7))]]]\n",
      "0.1389145851135254\n"
     ]
    }
   ],
   "source": [
    "st = time.time()\n",
    "example_sentence = 'Some cat is certainly difficult to deal with.'\n",
    "example_syntax_pattern = ['[np,1]', 'is', 'certainly', 'difficult','[to,3]', '[vb,4]']\n",
    "print(SyntaxTree.matchPattern(example_sentence, example_syntax_pattern))\n",
    "ed = time.time()\n",
    "print(ed-st)"
   ]
  },
  {
   "cell_type": "code",
   "execution_count": null,
   "metadata": {},
   "outputs": [],
   "source": []
  }
 ],
 "metadata": {
  "kernelspec": {
   "display_name": "workvenv",
   "language": "python",
   "name": "workvenv"
  },
  "language_info": {
   "codemirror_mode": {
    "name": "ipython",
    "version": 3
   },
   "file_extension": ".py",
   "mimetype": "text/x-python",
   "name": "python",
   "nbconvert_exporter": "python",
   "pygments_lexer": "ipython3",
   "version": "3.6.4"
  }
 },
 "nbformat": 4,
 "nbformat_minor": 2
}
